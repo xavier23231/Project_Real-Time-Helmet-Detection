{
 "cells": [
  {
   "cell_type": "code",
   "execution_count": 1,
   "metadata": {
    "colab": {
     "base_uri": "https://localhost:8080/"
    },
    "id": "IRV-E5YFo7UB",
    "outputId": "d0ff565b-a7ff-4e7f-8b44-48f6f7216fc6"
   },
   "outputs": [
    {
     "name": "stdout",
     "output_type": "stream",
     "text": [
      "Mounted at /content/gdrive\n",
      " activity\t\t\t\t    mcm2022\n",
      " beast\t\t\t\t\t   'MOHAMMED RISHIN.gdoc'\n",
      " certificate.pdf\t\t\t    Mohammed-Rishin.pdf\n",
      " Classroom\t\t\t\t   'My Drive'\n",
      "'Colab Notebooks'\t\t\t   'object detection'\n",
      "'Copy of IMG_2891.heic'\t\t\t   'OFF STAGE ITEMS.gsheet'\n",
      " d22\t\t\t\t\t   'ON STAGE ITEMS.gsheet'\n",
      " DATAFILE4.jpg\t\t\t\t    oven.pdf\n",
      "'DBMS Test-1 Marks (1).gsheet'\t\t    Pics\n",
      " F3823F60-626C-4E13-9CE0-C0A98065606D.png   project_helmet\n",
      " Files\t\t\t\t\t    Resume.gdoc\n",
      " GROUP.gsheet\t\t\t\t   'SRS_Rollno-08 (1).docx'\n",
      " helmet_detection\t\t\t   'SRS_Rollno-08 (2).docx'\n",
      " IMG_7878.PNG\t\t\t\t   'SRS_Rollno-08 (3).docx'\n",
      " kia\t\t\t\t\t    SRS_Rollno-08.docx\n",
      "'Ladder Ashli (1).gslides'\t\t   'Untitled document.gdoc'\n",
      "'Ladder Ashli (2).gslides'\t\t   'Untitled document.pdf'\n",
      "'Ladder Ashli (3).gslides'\t\t   'Untitled folder'\n",
      "'Ladder Ashli.gslides'\t\t\t   'Untitled presentation.gslides'\n",
      "'Ladder Ashli.pptx'\n"
     ]
    }
   ],
   "source": [
    "# code for google colab\n",
    "from google.colab import drive\n",
    "drive.mount('/content/gdrive')\n",
    "\n",
    "!ln -s /content/gdrive/My\\ Drive/ /mydrive\n",
    "! ls /mydrive"
   ]
  },
  {
   "cell_type": "markdown",
   "metadata": {
    "id": "1gAw9USqT5FP"
   },
   "source": [
    "# New Section"
   ]
  },
  {
   "cell_type": "code",
   "execution_count": 2,
   "metadata": {
    "colab": {
     "base_uri": "https://localhost:8080/"
    },
    "id": "UkemvtFHpB6k",
    "outputId": "bd73f50a-1ad3-4e06-b0d3-f2fe455a15b2"
   },
   "outputs": [
    {
     "name": "stdout",
     "output_type": "stream",
     "text": [
      "with_helmet  without_helmet\n"
     ]
    }
   ],
   "source": [
    "# ls\n",
    "# dataset face_detector\n",
    "# ls dataset\n",
    "# with_helmet without_helmet\n",
    "# ls face_detector\n",
    "!ls /mydrive/helmet_detection\n"
   ]
  },
  {
   "cell_type": "code",
   "execution_count": 3,
   "metadata": {
    "id": "z0YEWBJ-ZzQ2"
   },
   "outputs": [],
   "source": [
    "# edit this directory location\n",
    "import os\n",
    "DIRECTORY = \"/mydrive/helmet_detection\"\n",
    "CATEGORIES = [\"with_helmet\", \"without_helmet\"]"
   ]
  },
  {
   "cell_type": "code",
   "execution_count": 4,
   "metadata": {
    "colab": {
     "base_uri": "https://localhost:8080/"
    },
    "id": "33ctgYSvZ-JN",
    "outputId": "dd9b68d9-89f9-4436-d555-8c60155dc574"
   },
   "outputs": [
    {
     "name": "stdout",
     "output_type": "stream",
     "text": [
      "/mydrive/helmet_detection/with_helmet/IMG_9989.jpg\n",
      "/mydrive/helmet_detection/with_helmet/IMG_9987.jpg\n",
      "/mydrive/helmet_detection/with_helmet/IMG_9985.jpg\n",
      "/mydrive/helmet_detection/with_helmet/IMG_9991.jpg\n",
      "/mydrive/helmet_detection/with_helmet/IMG_9990.jpg\n",
      "/mydrive/helmet_detection/with_helmet/IMG_9986.jpg\n",
      "/mydrive/helmet_detection/with_helmet/IMG_9993.jpg\n",
      "/mydrive/helmet_detection/with_helmet/IMG_9988.jpg\n",
      "/mydrive/helmet_detection/with_helmet/IMG_9994.jpg\n",
      "/mydrive/helmet_detection/with_helmet/IMG_9992.jpg\n",
      "/mydrive/helmet_detection/with_helmet/IMG_9995.jpg\n",
      "/mydrive/helmet_detection/with_helmet/IMG_9996.jpg\n",
      "/mydrive/helmet_detection/with_helmet/IMG_9997.jpg\n",
      "/mydrive/helmet_detection/with_helmet/IMG_9998.jpg\n",
      "/mydrive/helmet_detection/with_helmet/IMG_9999.jpg\n",
      "/mydrive/helmet_detection/with_helmet/IMG_0001.jpg\n",
      "/mydrive/helmet_detection/with_helmet/IMG_0002.jpg\n",
      "/mydrive/helmet_detection/with_helmet/IMG_0004.jpg\n",
      "/mydrive/helmet_detection/with_helmet/IMG_0003.jpg\n",
      "/mydrive/helmet_detection/with_helmet/IMG_0005.jpg\n",
      "/mydrive/helmet_detection/with_helmet/IMG_0006.jpg\n",
      "/mydrive/helmet_detection/with_helmet/IMG_0007.jpg\n",
      "/mydrive/helmet_detection/with_helmet/IMG_0008.jpg\n",
      "/mydrive/helmet_detection/with_helmet/IMG_0009.jpg\n",
      "/mydrive/helmet_detection/with_helmet/IMG_0010.jpg\n",
      "/mydrive/helmet_detection/with_helmet/IMG_0011.jpg\n",
      "/mydrive/helmet_detection/with_helmet/IMG_0012.JPG\n",
      "/mydrive/helmet_detection/with_helmet/IMG_0013.jpg\n",
      "/mydrive/helmet_detection/with_helmet/IMG_0014.jpg\n",
      "/mydrive/helmet_detection/with_helmet/IMG_0015.jpg\n",
      "/mydrive/helmet_detection/with_helmet/IMG_0016.jpg\n",
      "/mydrive/helmet_detection/with_helmet/IMG_0017.jpg\n",
      "/mydrive/helmet_detection/with_helmet/IMG_0018.jpg\n",
      "/mydrive/helmet_detection/with_helmet/IMG_0019.jpg\n",
      "/mydrive/helmet_detection/with_helmet/IMG_0020.jpg\n",
      "/mydrive/helmet_detection/with_helmet/IMG_0021.jpg\n",
      "/mydrive/helmet_detection/with_helmet/IMG_0022.jpg\n",
      "/mydrive/helmet_detection/with_helmet/IMG_0023.jpg\n",
      "/mydrive/helmet_detection/with_helmet/IMG_0024.jpg\n",
      "/mydrive/helmet_detection/with_helmet/IMG_0025.jpg\n",
      "/mydrive/helmet_detection/with_helmet/IMG_0026.jpg\n",
      "/mydrive/helmet_detection/with_helmet/IMG_0028.jpg\n",
      "/mydrive/helmet_detection/with_helmet/IMG_0029.jpg\n",
      "/mydrive/helmet_detection/with_helmet/IMG_0031.jpg\n",
      "/mydrive/helmet_detection/with_helmet/IMG_0030.jpg\n",
      "/mydrive/helmet_detection/with_helmet/IMG_0032.jpg\n",
      "/mydrive/helmet_detection/with_helmet/IMG_0027.jpg\n",
      "/mydrive/helmet_detection/with_helmet/IMG_0033.jpg\n",
      "/mydrive/helmet_detection/with_helmet/IMG_0034.jpg\n",
      "/mydrive/helmet_detection/with_helmet/IMG_0035.jpg\n",
      "/mydrive/helmet_detection/with_helmet/IMG_0036.jpg\n",
      "/mydrive/helmet_detection/with_helmet/IMG_0037.jpg\n",
      "/mydrive/helmet_detection/with_helmet/IMG_0038.jpg\n",
      "/mydrive/helmet_detection/with_helmet/IMG_0039.jpg\n",
      "/mydrive/helmet_detection/with_helmet/IMG_0040.jpg\n",
      "/mydrive/helmet_detection/with_helmet/IMG_0041.jpg\n",
      "/mydrive/helmet_detection/with_helmet/IMG_0042.jpg\n",
      "/mydrive/helmet_detection/with_helmet/IMG_0043.jpg\n",
      "/mydrive/helmet_detection/with_helmet/IMG_0044.jpg\n",
      "/mydrive/helmet_detection/with_helmet/IMG_0045.jpg\n",
      "/mydrive/helmet_detection/with_helmet/IMG_0046.jpg\n",
      "/mydrive/helmet_detection/with_helmet/IMG_0047.jpg\n",
      "/mydrive/helmet_detection/with_helmet/IMG_0048.jpg\n",
      "/mydrive/helmet_detection/with_helmet/IMG_0049.jpg\n",
      "/mydrive/helmet_detection/with_helmet/IMG_0050.jpg\n",
      "/mydrive/helmet_detection/with_helmet/IMG_0051.jpg\n",
      "/mydrive/helmet_detection/with_helmet/IMG_0052.jpg\n",
      "/mydrive/helmet_detection/with_helmet/IMG_0053.jpg\n",
      "/mydrive/helmet_detection/with_helmet/IMG_0054.jpg\n",
      "/mydrive/helmet_detection/with_helmet/IMG_0055.jpg\n",
      "/mydrive/helmet_detection/with_helmet/IMG_0056.jpg\n",
      "/mydrive/helmet_detection/with_helmet/IMG_0057.jpg\n",
      "/mydrive/helmet_detection/with_helmet/IMG_0058.jpg\n",
      "/mydrive/helmet_detection/with_helmet/IMG_0059.jpg\n",
      "/mydrive/helmet_detection/with_helmet/IMG_0060.jpg\n",
      "/mydrive/helmet_detection/with_helmet/IMG_0061.jpg\n",
      "/mydrive/helmet_detection/with_helmet/IMG_0062.jpg\n",
      "/mydrive/helmet_detection/with_helmet/IMG_0063.jpg\n",
      "/mydrive/helmet_detection/with_helmet/IMG_0064.jpg\n",
      "/mydrive/helmet_detection/with_helmet/IMG_0065.jpg\n",
      "/mydrive/helmet_detection/with_helmet/IMG_0066.jpg\n",
      "/mydrive/helmet_detection/with_helmet/IMG_0067.jpg\n",
      "/mydrive/helmet_detection/with_helmet/IMG_0068.jpg\n",
      "/mydrive/helmet_detection/with_helmet/IMG_0069.jpg\n",
      "/mydrive/helmet_detection/with_helmet/IMG_0070.jpg\n",
      "/mydrive/helmet_detection/with_helmet/IMG_0071.jpg\n",
      "/mydrive/helmet_detection/with_helmet/IMG_0072.jpg\n",
      "/mydrive/helmet_detection/with_helmet/IMG_0073.jpg\n",
      "/mydrive/helmet_detection/with_helmet/IMG_0074.jpg\n",
      "/mydrive/helmet_detection/with_helmet/IMG_0075.jpg\n",
      "/mydrive/helmet_detection/with_helmet/IMG_0076.jpg\n",
      "/mydrive/helmet_detection/with_helmet/IMG_0077.jpg\n",
      "/mydrive/helmet_detection/with_helmet/IMG_0078.jpg\n",
      "/mydrive/helmet_detection/with_helmet/IMG_0079.jpg\n",
      "/mydrive/helmet_detection/with_helmet/IMG_0080.jpg\n",
      "/mydrive/helmet_detection/with_helmet/IMG_0081.jpg\n",
      "/mydrive/helmet_detection/with_helmet/IMG_0082.jpg\n",
      "/mydrive/helmet_detection/with_helmet/IMG_0083.jpg\n",
      "/mydrive/helmet_detection/with_helmet/IMG_0084.jpg\n",
      "/mydrive/helmet_detection/with_helmet/IMG_0085.jpg\n",
      "/mydrive/helmet_detection/with_helmet/IMG_0086.jpg\n",
      "/mydrive/helmet_detection/with_helmet/IMG_0087.jpg\n",
      "/mydrive/helmet_detection/with_helmet/IMG_0089.jpg\n",
      "/mydrive/helmet_detection/with_helmet/IMG_0088.jpg\n",
      "/mydrive/helmet_detection/with_helmet/IMG_0090.jpg\n",
      "/mydrive/helmet_detection/with_helmet/IMG_0092.jpg\n",
      "/mydrive/helmet_detection/with_helmet/IMG_0093.jpg\n",
      "/mydrive/helmet_detection/with_helmet/IMG_0091.jpg\n",
      "/mydrive/helmet_detection/with_helmet/IMG_0097.jpg\n",
      "/mydrive/helmet_detection/with_helmet/IMG_0099.jpg\n",
      "/mydrive/helmet_detection/with_helmet/IMG_0100.jpg\n",
      "/mydrive/helmet_detection/with_helmet/IMG_0096.jpg\n",
      "/mydrive/helmet_detection/with_helmet/IMG_0098.jpg\n",
      "/mydrive/helmet_detection/with_helmet/IMG_0094.jpg\n",
      "/mydrive/helmet_detection/with_helmet/IMG_0095.jpg\n",
      "/mydrive/helmet_detection/with_helmet/IMG_0101.jpg\n",
      "/mydrive/helmet_detection/with_helmet/IMG_0102.jpg\n",
      "/mydrive/helmet_detection/with_helmet/IMG_0103.jpg\n",
      "/mydrive/helmet_detection/with_helmet/IMG_0104.jpg\n",
      "/mydrive/helmet_detection/with_helmet/IMG_0105.jpg\n",
      "/mydrive/helmet_detection/with_helmet/IMG_0106.jpg\n",
      "/mydrive/helmet_detection/with_helmet/IMG_0107.jpg\n",
      "/mydrive/helmet_detection/with_helmet/IMG_0108.jpg\n",
      "/mydrive/helmet_detection/with_helmet/IMG_0109.jpg\n",
      "/mydrive/helmet_detection/with_helmet/IMG_0110.jpg\n",
      "/mydrive/helmet_detection/with_helmet/IMG_0111.jpg\n",
      "/mydrive/helmet_detection/with_helmet/IMG_0112.jpg\n",
      "/mydrive/helmet_detection/with_helmet/IMG_0113.jpg\n",
      "/mydrive/helmet_detection/with_helmet/IMG_0114.jpg\n",
      "/mydrive/helmet_detection/with_helmet/IMG_0115.jpg\n",
      "/mydrive/helmet_detection/with_helmet/IMG_0116.jpg\n",
      "/mydrive/helmet_detection/with_helmet/IMG_0117.jpg\n",
      "/mydrive/helmet_detection/with_helmet/IMG_0119.jpg\n",
      "/mydrive/helmet_detection/with_helmet/IMG_0118.jpg\n",
      "/mydrive/helmet_detection/with_helmet/IMG_0120.jpg\n",
      "/mydrive/helmet_detection/with_helmet/IMG_0121.jpg\n",
      "/mydrive/helmet_detection/with_helmet/IMG_0122.jpg\n",
      "/mydrive/helmet_detection/with_helmet/IMG_0123.jpg\n",
      "/mydrive/helmet_detection/with_helmet/IMG_0124.jpg\n",
      "/mydrive/helmet_detection/with_helmet/IMG_0125.jpg\n",
      "/mydrive/helmet_detection/with_helmet/IMG_0126.jpg\n",
      "/mydrive/helmet_detection/with_helmet/IMG_0127.jpg\n",
      "/mydrive/helmet_detection/with_helmet/IMG_0128.jpg\n",
      "/mydrive/helmet_detection/with_helmet/IMG_0129.jpg\n",
      "/mydrive/helmet_detection/with_helmet/IMG_0130.jpg\n",
      "/mydrive/helmet_detection/with_helmet/IMG_0131.jpg\n",
      "/mydrive/helmet_detection/with_helmet/IMG_0132.jpg\n",
      "/mydrive/helmet_detection/with_helmet/IMG_0133.jpg\n",
      "/mydrive/helmet_detection/with_helmet/IMG_0134.jpg\n",
      "/mydrive/helmet_detection/with_helmet/IMG_0135.jpg\n",
      "/mydrive/helmet_detection/with_helmet/IMG_0136.jpg\n",
      "/mydrive/helmet_detection/with_helmet/IMG_0137.jpg\n",
      "/mydrive/helmet_detection/with_helmet/IMG_0138.jpg\n",
      "/mydrive/helmet_detection/with_helmet/IMG_0139.jpg\n",
      "/mydrive/helmet_detection/with_helmet/IMG_0140.jpg\n",
      "/mydrive/helmet_detection/with_helmet/IMG_0141.jpg\n",
      "/mydrive/helmet_detection/with_helmet/IMG_0142.jpg\n",
      "/mydrive/helmet_detection/with_helmet/IMG_0143.jpg\n",
      "/mydrive/helmet_detection/with_helmet/IMG_0144.jpg\n",
      "/mydrive/helmet_detection/with_helmet/IMG_0145.jpg\n",
      "/mydrive/helmet_detection/with_helmet/IMG_0146.jpg\n",
      "/mydrive/helmet_detection/with_helmet/IMG_0147.jpg\n",
      "/mydrive/helmet_detection/with_helmet/IMG_0148.jpg\n",
      "/mydrive/helmet_detection/with_helmet/IMG_0149.jpg\n",
      "/mydrive/helmet_detection/with_helmet/IMG_0150.jpg\n",
      "/mydrive/helmet_detection/with_helmet/IMG_0151.jpg\n",
      "/mydrive/helmet_detection/with_helmet/IMG_0152.jpg\n",
      "/mydrive/helmet_detection/with_helmet/IMG_0153.PNG\n",
      "/mydrive/helmet_detection/with_helmet/IMG_0154.JPG\n",
      "/mydrive/helmet_detection/with_helmet/IMG_0155.jpg\n",
      "/mydrive/helmet_detection/with_helmet/IMG_0156.JPG\n",
      "/mydrive/helmet_detection/with_helmet/IMG_0157.JPG\n",
      "/mydrive/helmet_detection/with_helmet/IMG_0158.jpg\n",
      "/mydrive/helmet_detection/with_helmet/IMG_0159.jpg\n",
      "/mydrive/helmet_detection/with_helmet/IMG_0160.JPG\n",
      "/mydrive/helmet_detection/with_helmet/IMG_0161.JPG\n",
      "/mydrive/helmet_detection/with_helmet/IMG_0162.jpg\n",
      "/mydrive/helmet_detection/with_helmet/IMG_0164.jpg\n",
      "/mydrive/helmet_detection/with_helmet/IMG_0165.jpg\n",
      "/mydrive/helmet_detection/with_helmet/IMG_0166.jpg\n",
      "/mydrive/helmet_detection/with_helmet/IMG_0163.JPG\n",
      "/mydrive/helmet_detection/with_helmet/IMG_0167.JPG\n",
      "/mydrive/helmet_detection/with_helmet/IMG_0168.jpg\n",
      "/mydrive/helmet_detection/with_helmet/IMG_0169.jpg\n",
      "/mydrive/helmet_detection/with_helmet/IMG_0170.jpg\n",
      "/mydrive/helmet_detection/with_helmet/IMG_0171.JPG\n",
      "/mydrive/helmet_detection/with_helmet/IMG_0172.jpg\n",
      "/mydrive/helmet_detection/with_helmet/IMG_0173.jpg\n",
      "/mydrive/helmet_detection/with_helmet/IMG_0174.jpg\n",
      "/mydrive/helmet_detection/with_helmet/IMG_0175.jpg\n",
      "/mydrive/helmet_detection/with_helmet/IMG_0176.jpg\n",
      "/mydrive/helmet_detection/with_helmet/IMG_0177.jpg\n",
      "/mydrive/helmet_detection/with_helmet/IMG_0178.JPG\n",
      "/mydrive/helmet_detection/with_helmet/IMG_0179.JPG\n",
      "/mydrive/helmet_detection/with_helmet/IMG_0181.jpg\n",
      "/mydrive/helmet_detection/with_helmet/IMG_0180.JPG\n",
      "/mydrive/helmet_detection/with_helmet/IMG_0182.jpg\n",
      "/mydrive/helmet_detection/with_helmet/IMG_0183.JPG\n",
      "/mydrive/helmet_detection/with_helmet/IMG_0184.JPG\n",
      "/mydrive/helmet_detection/with_helmet/IMG_0185.jpg\n",
      "/mydrive/helmet_detection/with_helmet/IMG_0186.JPG\n",
      "/mydrive/helmet_detection/with_helmet/IMG_0189.jpg\n",
      "/mydrive/helmet_detection/with_helmet/IMG_0188.JPG\n",
      "/mydrive/helmet_detection/with_helmet/IMG_0187.JPG\n",
      "/mydrive/helmet_detection/with_helmet/IMG_0190.jpg\n",
      "/mydrive/helmet_detection/with_helmet/IMG_0191.jpg\n",
      "/mydrive/helmet_detection/with_helmet/IMG_0193.jpg\n",
      "/mydrive/helmet_detection/with_helmet/IMG_0192.JPG\n",
      "/mydrive/helmet_detection/with_helmet/IMG_0194.jpg\n",
      "/mydrive/helmet_detection/with_helmet/IMG_0195.jpg\n",
      "/mydrive/helmet_detection/with_helmet/IMG_0196.jpg\n",
      "/mydrive/helmet_detection/with_helmet/IMG_0197.jpg\n",
      "/mydrive/helmet_detection/with_helmet/IMG_0199.jpg\n",
      "/mydrive/helmet_detection/with_helmet/IMG_0198.jpg\n",
      "/mydrive/helmet_detection/with_helmet/IMG_0200.jpg\n",
      "/mydrive/helmet_detection/with_helmet/IMG_0201.jpg\n",
      "/mydrive/helmet_detection/with_helmet/IMG_0202.jpg\n",
      "/mydrive/helmet_detection/with_helmet/IMG_0203.jpg\n",
      "/mydrive/helmet_detection/with_helmet/IMG_0204.jpg\n",
      "/mydrive/helmet_detection/with_helmet/IMG_0205.jpg\n",
      "/mydrive/helmet_detection/with_helmet/IMG_0206.jpg\n",
      "/mydrive/helmet_detection/with_helmet/IMG_0207.jpg\n",
      "/mydrive/helmet_detection/with_helmet/IMG_0208.jpg\n",
      "/mydrive/helmet_detection/with_helmet/IMG_0209.jpg\n",
      "/mydrive/helmet_detection/with_helmet/IMG_0210.PNG\n",
      "/mydrive/helmet_detection/with_helmet/IMG_0211.jpg\n",
      "/mydrive/helmet_detection/with_helmet/IMG_0212.jpg\n",
      "/mydrive/helmet_detection/with_helmet/IMG_0213.jpg\n",
      "/mydrive/helmet_detection/with_helmet/IMG_0214.JPG\n",
      "/mydrive/helmet_detection/with_helmet/IMG_0215.JPG\n",
      "/mydrive/helmet_detection/with_helmet/IMG_0219.JPG\n",
      "/mydrive/helmet_detection/with_helmet/IMG_0221.JPG\n",
      "/mydrive/helmet_detection/with_helmet/IMG_0224.JPG\n",
      "/mydrive/helmet_detection/without_helmet/augmented_image_99.JPG\n",
      "/mydrive/helmet_detection/without_helmet/augmented_image_91.JPG\n",
      "/mydrive/helmet_detection/without_helmet/augmented_image_94.JPG\n",
      "/mydrive/helmet_detection/without_helmet/augmented_image_92.JPG\n",
      "/mydrive/helmet_detection/without_helmet/augmented_image_97.JPG\n",
      "/mydrive/helmet_detection/without_helmet/augmented_image_95.JPG\n",
      "/mydrive/helmet_detection/without_helmet/augmented_image_96.JPG\n",
      "/mydrive/helmet_detection/without_helmet/augmented_image_98.JPG\n",
      "/mydrive/helmet_detection/without_helmet/augmented_image_90.JPG\n",
      "/mydrive/helmet_detection/without_helmet/augmented_image_93.JPG\n",
      "/mydrive/helmet_detection/without_helmet/augmented_image_89.JPG\n",
      "/mydrive/helmet_detection/without_helmet/augmented_image_88.JPG\n",
      "/mydrive/helmet_detection/without_helmet/augmented_image_87.JPG\n",
      "/mydrive/helmet_detection/without_helmet/augmented_image_86.JPG\n",
      "/mydrive/helmet_detection/without_helmet/augmented_image_85.JPG\n",
      "/mydrive/helmet_detection/without_helmet/augmented_image_84.JPG\n",
      "/mydrive/helmet_detection/without_helmet/augmented_image_83.JPG\n",
      "/mydrive/helmet_detection/without_helmet/augmented_image_82.JPG\n",
      "/mydrive/helmet_detection/without_helmet/augmented_image_81.JPG\n",
      "/mydrive/helmet_detection/without_helmet/augmented_image_80.JPG\n",
      "/mydrive/helmet_detection/without_helmet/augmented_image_79.JPG\n",
      "/mydrive/helmet_detection/without_helmet/augmented_image_78.JPG\n",
      "/mydrive/helmet_detection/without_helmet/augmented_image_77.JPG\n",
      "/mydrive/helmet_detection/without_helmet/augmented_image_76.JPG\n",
      "/mydrive/helmet_detection/without_helmet/augmented_image_74.JPG\n",
      "/mydrive/helmet_detection/without_helmet/augmented_image_73.JPG\n",
      "/mydrive/helmet_detection/without_helmet/augmented_image_72.JPG\n",
      "/mydrive/helmet_detection/without_helmet/augmented_image_71.JPG\n",
      "/mydrive/helmet_detection/without_helmet/augmented_image_70.JPG\n",
      "/mydrive/helmet_detection/without_helmet/augmented_image_7.JPG\n",
      "/mydrive/helmet_detection/without_helmet/augmented_image_69.JPG\n",
      "/mydrive/helmet_detection/without_helmet/augmented_image_68.JPG\n",
      "/mydrive/helmet_detection/without_helmet/augmented_image_67.JPG\n",
      "/mydrive/helmet_detection/without_helmet/augmented_image_66.JPG\n",
      "/mydrive/helmet_detection/without_helmet/augmented_image_65.JPG\n",
      "/mydrive/helmet_detection/without_helmet/augmented_image_64.JPG\n",
      "/mydrive/helmet_detection/without_helmet/augmented_image_63.JPG\n",
      "/mydrive/helmet_detection/without_helmet/augmented_image_62.JPG\n",
      "/mydrive/helmet_detection/without_helmet/augmented_image_61.JPG\n",
      "/mydrive/helmet_detection/without_helmet/augmented_image_60.JPG\n",
      "/mydrive/helmet_detection/without_helmet/augmented_image_59.JPG\n",
      "/mydrive/helmet_detection/without_helmet/augmented_image_58.JPG\n",
      "/mydrive/helmet_detection/without_helmet/augmented_image_57.JPG\n",
      "/mydrive/helmet_detection/without_helmet/augmented_image_56.JPG\n",
      "/mydrive/helmet_detection/without_helmet/augmented_image_55.JPG\n",
      "/mydrive/helmet_detection/without_helmet/augmented_image_54.JPG\n",
      "/mydrive/helmet_detection/without_helmet/augmented_image_53.JPG\n",
      "/mydrive/helmet_detection/without_helmet/augmented_image_52.JPG\n",
      "/mydrive/helmet_detection/without_helmet/augmented_image_51.JPG\n",
      "/mydrive/helmet_detection/without_helmet/augmented_image_50.JPG\n",
      "/mydrive/helmet_detection/without_helmet/augmented_image_5.JPG\n",
      "/mydrive/helmet_detection/without_helmet/augmented_image_48.JPG\n",
      "/mydrive/helmet_detection/without_helmet/augmented_image_45.JPG\n",
      "/mydrive/helmet_detection/without_helmet/augmented_image_44.JPG\n",
      "/mydrive/helmet_detection/without_helmet/augmented_image_43.JPG\n",
      "/mydrive/helmet_detection/without_helmet/augmented_image_42.JPG\n",
      "/mydrive/helmet_detection/without_helmet/augmented_image_41.JPG\n",
      "/mydrive/helmet_detection/without_helmet/augmented_image_40.JPG\n",
      "/mydrive/helmet_detection/without_helmet/augmented_image_4.JPG\n",
      "/mydrive/helmet_detection/without_helmet/augmented_image_39.JPG\n",
      "/mydrive/helmet_detection/without_helmet/augmented_image_38.JPG\n",
      "/mydrive/helmet_detection/without_helmet/augmented_image_37.JPG\n",
      "/mydrive/helmet_detection/without_helmet/augmented_image_36.JPG\n",
      "/mydrive/helmet_detection/without_helmet/augmented_image_35.JPG\n",
      "/mydrive/helmet_detection/without_helmet/augmented_image_32.JPG\n",
      "/mydrive/helmet_detection/without_helmet/augmented_image_33.JPG\n",
      "/mydrive/helmet_detection/without_helmet/augmented_image_319.JPG\n",
      "/mydrive/helmet_detection/without_helmet/augmented_image_318.JPG\n",
      "/mydrive/helmet_detection/without_helmet/augmented_image_317.JPG\n",
      "/mydrive/helmet_detection/without_helmet/augmented_image_315.JPG\n",
      "/mydrive/helmet_detection/without_helmet/augmented_image_311.JPG\n",
      "/mydrive/helmet_detection/without_helmet/augmented_image_314.JPG\n",
      "/mydrive/helmet_detection/without_helmet/augmented_image_310.JPG\n",
      "/mydrive/helmet_detection/without_helmet/augmented_image_309.JPG\n",
      "/mydrive/helmet_detection/without_helmet/augmented_image_31.JPG\n",
      "/mydrive/helmet_detection/without_helmet/augmented_image_308.JPG\n",
      "/mydrive/helmet_detection/without_helmet/augmented_image_306.JPG\n",
      "/mydrive/helmet_detection/without_helmet/augmented_image_307.JPG\n",
      "/mydrive/helmet_detection/without_helmet/augmented_image_304.JPG\n",
      "/mydrive/helmet_detection/without_helmet/augmented_image_303.JPG\n",
      "/mydrive/helmet_detection/without_helmet/augmented_image_30.JPG\n",
      "/mydrive/helmet_detection/without_helmet/augmented_image_3.JPG\n",
      "/mydrive/helmet_detection/without_helmet/augmented_image_299.JPG\n",
      "/mydrive/helmet_detection/without_helmet/augmented_image_298.JPG\n",
      "/mydrive/helmet_detection/without_helmet/augmented_image_301.JPG\n",
      "/mydrive/helmet_detection/without_helmet/augmented_image_297.JPG\n",
      "/mydrive/helmet_detection/without_helmet/augmented_image_296.JPG\n",
      "/mydrive/helmet_detection/without_helmet/augmented_image_294.JPG\n",
      "/mydrive/helmet_detection/without_helmet/augmented_image_293.JPG\n",
      "/mydrive/helmet_detection/without_helmet/augmented_image_292.JPG\n",
      "/mydrive/helmet_detection/without_helmet/augmented_image_291.JPG\n",
      "/mydrive/helmet_detection/without_helmet/augmented_image_290.JPG\n",
      "/mydrive/helmet_detection/without_helmet/augmented_image_285.JPG\n",
      "/mydrive/helmet_detection/without_helmet/augmented_image_284.JPG\n",
      "/mydrive/helmet_detection/without_helmet/augmented_image_283.JPG\n",
      "/mydrive/helmet_detection/without_helmet/augmented_image_282.JPG\n",
      "/mydrive/helmet_detection/without_helmet/augmented_image_281.JPG\n",
      "/mydrive/helmet_detection/without_helmet/augmented_image_276.JPG\n",
      "/mydrive/helmet_detection/without_helmet/augmented_image_273.JPG\n",
      "/mydrive/helmet_detection/without_helmet/augmented_image_272.JPG\n",
      "/mydrive/helmet_detection/without_helmet/augmented_image_277.JPG\n",
      "/mydrive/helmet_detection/without_helmet/augmented_image_270.JPG\n",
      "/mydrive/helmet_detection/without_helmet/augmented_image_27.JPG\n",
      "/mydrive/helmet_detection/without_helmet/augmented_image_269.JPG\n",
      "/mydrive/helmet_detection/without_helmet/augmented_image_267.JPG\n",
      "/mydrive/helmet_detection/without_helmet/augmented_image_265.JPG\n",
      "/mydrive/helmet_detection/without_helmet/augmented_image_263.JPG\n",
      "/mydrive/helmet_detection/without_helmet/augmented_image_262.JPG\n",
      "/mydrive/helmet_detection/without_helmet/augmented_image_260.JPG\n",
      "/mydrive/helmet_detection/without_helmet/augmented_image_258.JPG\n",
      "/mydrive/helmet_detection/without_helmet/augmented_image_257.JPG\n",
      "/mydrive/helmet_detection/without_helmet/augmented_image_256.JPG\n",
      "/mydrive/helmet_detection/without_helmet/augmented_image_253.JPG\n",
      "/mydrive/helmet_detection/without_helmet/augmented_image_252.JPG\n",
      "/mydrive/helmet_detection/without_helmet/augmented_image_251.JPG\n",
      "/mydrive/helmet_detection/without_helmet/augmented_image_250.JPG\n",
      "/mydrive/helmet_detection/without_helmet/augmented_image_25.JPG\n",
      "/mydrive/helmet_detection/without_helmet/augmented_image_249.JPG\n",
      "/mydrive/helmet_detection/without_helmet/augmented_image_246.JPG\n",
      "/mydrive/helmet_detection/without_helmet/augmented_image_245.JPG\n",
      "/mydrive/helmet_detection/without_helmet/augmented_image_244.JPG\n",
      "/mydrive/helmet_detection/without_helmet/augmented_image_243.JPG\n",
      "/mydrive/helmet_detection/without_helmet/augmented_image_241.JPG\n",
      "/mydrive/helmet_detection/without_helmet/augmented_image_240.JPG\n",
      "/mydrive/helmet_detection/without_helmet/augmented_image_239.JPG\n",
      "/mydrive/helmet_detection/without_helmet/augmented_image_238.JPG\n",
      "/mydrive/helmet_detection/without_helmet/augmented_image_237.JPG\n",
      "/mydrive/helmet_detection/without_helmet/augmented_image_236.JPG\n",
      "/mydrive/helmet_detection/without_helmet/augmented_image_235.JPG\n",
      "/mydrive/helmet_detection/without_helmet/augmented_image_234.JPG\n",
      "/mydrive/helmet_detection/without_helmet/augmented_image_233.JPG\n",
      "/mydrive/helmet_detection/without_helmet/augmented_image_232.JPG\n",
      "/mydrive/helmet_detection/without_helmet/augmented_image_231.JPG\n",
      "/mydrive/helmet_detection/without_helmet/augmented_image_230.JPG\n",
      "/mydrive/helmet_detection/without_helmet/augmented_image_23.JPG\n",
      "/mydrive/helmet_detection/without_helmet/augmented_image_229.JPG\n",
      "/mydrive/helmet_detection/without_helmet/augmented_image_227.JPG\n",
      "/mydrive/helmet_detection/without_helmet/augmented_image_226.JPG\n",
      "/mydrive/helmet_detection/without_helmet/augmented_image_224.JPG\n",
      "/mydrive/helmet_detection/without_helmet/augmented_image_223.JPG\n",
      "/mydrive/helmet_detection/without_helmet/augmented_image_222.JPG\n",
      "/mydrive/helmet_detection/without_helmet/augmented_image_221.JPG\n",
      "/mydrive/helmet_detection/without_helmet/augmented_image_220.JPG\n",
      "/mydrive/helmet_detection/without_helmet/augmented_image_22.JPG\n",
      "/mydrive/helmet_detection/without_helmet/augmented_image_219.JPG\n",
      "/mydrive/helmet_detection/without_helmet/augmented_image_216.JPG\n",
      "/mydrive/helmet_detection/without_helmet/augmented_image_215.JPG\n",
      "/mydrive/helmet_detection/without_helmet/augmented_image_214.JPG\n",
      "/mydrive/helmet_detection/without_helmet/augmented_image_211.JPG\n",
      "/mydrive/helmet_detection/without_helmet/augmented_image_210.JPG\n",
      "/mydrive/helmet_detection/without_helmet/augmented_image_21.JPG\n",
      "/mydrive/helmet_detection/without_helmet/augmented_image_209.JPG\n",
      "/mydrive/helmet_detection/without_helmet/augmented_image_208.JPG\n",
      "/mydrive/helmet_detection/without_helmet/augmented_image_206.JPG\n",
      "/mydrive/helmet_detection/without_helmet/augmented_image_205.JPG\n",
      "/mydrive/helmet_detection/without_helmet/augmented_image_204.JPG\n",
      "/mydrive/helmet_detection/without_helmet/augmented_image_203.JPG\n",
      "/mydrive/helmet_detection/without_helmet/augmented_image_201.JPG\n",
      "/mydrive/helmet_detection/without_helmet/augmented_image_200.JPG\n",
      "/mydrive/helmet_detection/without_helmet/augmented_image_2.JPG\n",
      "/mydrive/helmet_detection/without_helmet/augmented_image_20.JPG\n",
      "/mydrive/helmet_detection/without_helmet/augmented_image_199.JPG\n",
      "/mydrive/helmet_detection/without_helmet/augmented_image_198.JPG\n",
      "/mydrive/helmet_detection/without_helmet/augmented_image_197.JPG\n",
      "/mydrive/helmet_detection/without_helmet/augmented_image_194.JPG\n",
      "/mydrive/helmet_detection/without_helmet/augmented_image_193.JPG\n",
      "/mydrive/helmet_detection/without_helmet/augmented_image_192.JPG\n",
      "/mydrive/helmet_detection/without_helmet/augmented_image_191.JPG\n",
      "/mydrive/helmet_detection/without_helmet/augmented_image_19.JPG\n",
      "/mydrive/helmet_detection/without_helmet/augmented_image_189.JPG\n",
      "/mydrive/helmet_detection/without_helmet/augmented_image_187.JPG\n",
      "/mydrive/helmet_detection/without_helmet/augmented_image_188.JPG\n",
      "/mydrive/helmet_detection/without_helmet/augmented_image_186.JPG\n",
      "/mydrive/helmet_detection/without_helmet/augmented_image_185.JPG\n",
      "/mydrive/helmet_detection/without_helmet/augmented_image_184.JPG\n",
      "/mydrive/helmet_detection/without_helmet/augmented_image_183.JPG\n",
      "/mydrive/helmet_detection/without_helmet/augmented_image_182.JPG\n",
      "/mydrive/helmet_detection/without_helmet/augmented_image_181.JPG\n",
      "/mydrive/helmet_detection/without_helmet/augmented_image_180.JPG\n",
      "/mydrive/helmet_detection/without_helmet/augmented_image_18.JPG\n",
      "/mydrive/helmet_detection/without_helmet/augmented_image_179.JPG\n",
      "/mydrive/helmet_detection/without_helmet/augmented_image_178.JPG\n",
      "/mydrive/helmet_detection/without_helmet/augmented_image_177.JPG\n",
      "/mydrive/helmet_detection/without_helmet/augmented_image_176.JPG\n",
      "/mydrive/helmet_detection/without_helmet/augmented_image_175.JPG\n",
      "/mydrive/helmet_detection/without_helmet/augmented_image_174.JPG\n",
      "/mydrive/helmet_detection/without_helmet/augmented_image_173.JPG\n",
      "/mydrive/helmet_detection/without_helmet/augmented_image_172.JPG\n",
      "/mydrive/helmet_detection/without_helmet/augmented_image_171.JPG\n",
      "/mydrive/helmet_detection/without_helmet/augmented_image_170.JPG\n",
      "/mydrive/helmet_detection/without_helmet/augmented_image_17.JPG\n",
      "/mydrive/helmet_detection/without_helmet/augmented_image_169.JPG\n",
      "/mydrive/helmet_detection/without_helmet/augmented_image_168.JPG\n",
      "/mydrive/helmet_detection/without_helmet/augmented_image_166.JPG\n",
      "/mydrive/helmet_detection/without_helmet/augmented_image_165.JPG\n",
      "/mydrive/helmet_detection/without_helmet/augmented_image_164.JPG\n",
      "/mydrive/helmet_detection/without_helmet/augmented_image_163.JPG\n",
      "/mydrive/helmet_detection/without_helmet/augmented_image_162.JPG\n",
      "/mydrive/helmet_detection/without_helmet/augmented_image_161.JPG\n",
      "/mydrive/helmet_detection/without_helmet/augmented_image_160.JPG\n",
      "/mydrive/helmet_detection/without_helmet/augmented_image_16.JPG\n",
      "/mydrive/helmet_detection/without_helmet/augmented_image_158.JPG\n",
      "/mydrive/helmet_detection/without_helmet/augmented_image_157.JPG\n",
      "/mydrive/helmet_detection/without_helmet/augmented_image_156.JPG\n",
      "/mydrive/helmet_detection/without_helmet/augmented_image_155.JPG\n",
      "/mydrive/helmet_detection/without_helmet/augmented_image_154.JPG\n",
      "/mydrive/helmet_detection/without_helmet/augmented_image_153.JPG\n",
      "/mydrive/helmet_detection/without_helmet/augmented_image_152.JPG\n",
      "/mydrive/helmet_detection/without_helmet/augmented_image_151.JPG\n",
      "/mydrive/helmet_detection/without_helmet/augmented_image_150.JPG\n",
      "/mydrive/helmet_detection/without_helmet/augmented_image_149.JPG\n",
      "/mydrive/helmet_detection/without_helmet/augmented_image_148.JPG\n",
      "/mydrive/helmet_detection/without_helmet/augmented_image_147.JPG\n",
      "/mydrive/helmet_detection/without_helmet/augmented_image_145.JPG\n",
      "/mydrive/helmet_detection/without_helmet/augmented_image_144.JPG\n",
      "/mydrive/helmet_detection/without_helmet/augmented_image_143.JPG\n",
      "/mydrive/helmet_detection/without_helmet/augmented_image_142.JPG\n",
      "/mydrive/helmet_detection/without_helmet/augmented_image_141.JPG\n",
      "/mydrive/helmet_detection/without_helmet/augmented_image_140.JPG\n",
      "/mydrive/helmet_detection/without_helmet/augmented_image_14.JPG\n",
      "/mydrive/helmet_detection/without_helmet/augmented_image_139.JPG\n",
      "/mydrive/helmet_detection/without_helmet/augmented_image_138.JPG\n",
      "/mydrive/helmet_detection/without_helmet/augmented_image_137.JPG\n",
      "/mydrive/helmet_detection/without_helmet/augmented_image_136.JPG\n",
      "/mydrive/helmet_detection/without_helmet/augmented_image_135.JPG\n",
      "/mydrive/helmet_detection/without_helmet/augmented_image_134.JPG\n",
      "/mydrive/helmet_detection/without_helmet/augmented_image_133.JPG\n",
      "/mydrive/helmet_detection/without_helmet/augmented_image_132.JPG\n",
      "/mydrive/helmet_detection/without_helmet/augmented_image_131.JPG\n",
      "/mydrive/helmet_detection/without_helmet/augmented_image_130.JPG\n",
      "/mydrive/helmet_detection/without_helmet/augmented_image_13.JPG\n",
      "/mydrive/helmet_detection/without_helmet/augmented_image_129.JPG\n",
      "/mydrive/helmet_detection/without_helmet/augmented_image_128.JPG\n",
      "/mydrive/helmet_detection/without_helmet/augmented_image_127.JPG\n",
      "/mydrive/helmet_detection/without_helmet/augmented_image_126.JPG\n",
      "/mydrive/helmet_detection/without_helmet/augmented_image_124.JPG\n",
      "/mydrive/helmet_detection/without_helmet/augmented_image_125.JPG\n",
      "/mydrive/helmet_detection/without_helmet/augmented_image_123.JPG\n",
      "/mydrive/helmet_detection/without_helmet/augmented_image_122.JPG\n"
     ]
    }
   ],
   "source": [
    "for category in CATEGORIES:\n",
    "    path = os.path.join(DIRECTORY, category)\n",
    "    for img in os.listdir(path):\n",
    "      img_path = os.path.join(path, img)\n",
    "      print(img_path)"
   ]
  },
  {
   "cell_type": "code",
   "execution_count": 5,
   "metadata": {
    "id": "qWT-Tn05pFGl"
   },
   "outputs": [],
   "source": [
    "from tensorflow.keras.preprocessing.image import ImageDataGenerator\n",
    "from tensorflow.keras.applications import MobileNetV2\n",
    "from tensorflow.keras.layers import AveragePooling2D\n",
    "from tensorflow.keras.layers import Dropout\n",
    "from tensorflow.keras.layers import Flatten\n",
    "from tensorflow.keras.layers import Dense\n",
    "from tensorflow.keras.layers import Input\n",
    "from tensorflow.keras.models import Model\n",
    "from tensorflow.keras.optimizers import Adam\n",
    "from tensorflow.keras.applications.mobilenet_v2 import preprocess_input\n",
    "from tensorflow.keras.preprocessing.image import img_to_array\n",
    "from tensorflow.keras.preprocessing.image import load_img\n",
    "from tensorflow.keras.utils import to_categorical\n",
    "from sklearn.preprocessing import LabelBinarizer\n",
    "from sklearn.model_selection import train_test_split\n",
    "from sklearn.metrics import classification_report\n",
    "from imutils import paths\n",
    "import matplotlib.pyplot as plt\n",
    "import numpy as np\n",
    "import os\n",
    "import tensorflow as tf"
   ]
  },
  {
   "cell_type": "code",
   "execution_count": 6,
   "metadata": {
    "colab": {
     "base_uri": "https://localhost:8080/",
     "height": 35
    },
    "id": "pNlRDwuwQJ_n",
    "outputId": "53048a70-b00a-459c-cee4-6add88737795"
   },
   "outputs": [
    {
     "data": {
      "application/vnd.google.colaboratory.intrinsic+json": {
       "type": "string"
      },
      "text/plain": [
       "'2.12.0'"
      ]
     },
     "execution_count": 6,
     "metadata": {},
     "output_type": "execute_result"
    }
   ],
   "source": [
    "tf.__version__"
   ]
  },
  {
   "cell_type": "code",
   "execution_count": 7,
   "metadata": {
    "id": "LoBz1JtCpIPY"
   },
   "outputs": [],
   "source": [
    "# initialize the initial learning rate, number of epochs to train for,\n",
    "# and batch size\n",
    "INIT_LR = 1e-4\n",
    "EPOCHS = 20\n",
    "BS = 32"
   ]
  },
  {
   "cell_type": "code",
   "execution_count": 8,
   "metadata": {
    "id": "5Q-TMsy_pJNs"
   },
   "outputs": [],
   "source": [
    "# edit this directory location\n",
    "DIRECTORY = \"/mydrive/helmet_detection\"\n",
    "CATEGORIES = [\"with_helmet\", \"without_helmet\"]\n"
   ]
  },
  {
   "cell_type": "code",
   "execution_count": null,
   "metadata": {
    "id": "7JYBzEd3Za7t"
   },
   "outputs": [],
   "source": []
  },
  {
   "cell_type": "code",
   "execution_count": 9,
   "metadata": {
    "colab": {
     "base_uri": "https://localhost:8080/"
    },
    "id": "4wDaW9x3pJLJ",
    "outputId": "5e8c82e6-cd13-43c4-a998-2eb8ac2e9540"
   },
   "outputs": [
    {
     "name": "stdout",
     "output_type": "stream",
     "text": [
      "[INFO] loading images...\n"
     ]
    }
   ],
   "source": [
    "# grab the list of images in our dataset directory, then initialize\n",
    "# the list of data (i.e., images) and class images\n",
    "print(\"[INFO] loading images...\")\n",
    "\n",
    "data = []\n",
    "labels = []"
   ]
  },
  {
   "cell_type": "code",
   "execution_count": 10,
   "metadata": {
    "id": "UTdLIsYepJJA"
   },
   "outputs": [],
   "source": [
    "for category in CATEGORIES:\n",
    "    path = os.path.join(DIRECTORY, category)\n",
    "    for img in os.listdir(path):\n",
    "    \timg_path = os.path.join(path, img)\n",
    "    \timage = load_img(img_path, target_size=(224, 224))\n",
    "    \timage = img_to_array(image)\n",
    "    \timage = preprocess_input(image)\n",
    "\n",
    "    \tdata.append(image)\n",
    "    \tlabels.append(category)"
   ]
  },
  {
   "cell_type": "code",
   "execution_count": 11,
   "metadata": {
    "id": "l1z3AG9-pJGc"
   },
   "outputs": [],
   "source": [
    "#Label Binarizer is an SciKit Learn class that accepts Categorical data as input and returns an Numpy array.\n",
    "# perform one-hot encoding on the labels\n",
    "lb = LabelBinarizer()\n",
    "labels = lb.fit_transform(labels)\n",
    "labels = to_categorical(labels)\n",
    "\n",
    "# convert labels into numbers\n",
    "data = np.array(data, dtype=\"float32\")\n",
    "labels = np.array(labels)"
   ]
  },
  {
   "cell_type": "code",
   "execution_count": 12,
   "metadata": {
    "id": "dkO5G8U7pJEM"
   },
   "outputs": [],
   "source": [
    "(trainX, testX, trainY, testY) = train_test_split(data, labels,\n",
    "\ttest_size=0.20, stratify=labels, random_state=42)"
   ]
  },
  {
   "cell_type": "code",
   "execution_count": 13,
   "metadata": {
    "id": "y-7av1n7pJB5"
   },
   "outputs": [],
   "source": [
    "# construct the training image generator for data augmentation\n",
    "aug = ImageDataGenerator(\n",
    "\trotation_range=20,\n",
    "\tzoom_range=0.15,\n",
    "\twidth_shift_range=0.2,\n",
    "\theight_shift_range=0.2,\n",
    "\tshear_range=0.15,\n",
    "\thorizontal_flip=True,\n",
    "\tfill_mode=\"nearest\")"
   ]
  },
  {
   "cell_type": "code",
   "execution_count": 14,
   "metadata": {
    "colab": {
     "base_uri": "https://localhost:8080/"
    },
    "id": "7biCD6wvpZmc",
    "outputId": "248deae3-037c-4fae-dc40-15d1a7aa275f"
   },
   "outputs": [
    {
     "name": "stderr",
     "output_type": "stream",
     "text": [
      "WARNING:tensorflow:`input_shape` is undefined or non-square, or `rows` is not in [96, 128, 160, 192, 224]. Weights for input shape (224, 224) will be loaded as the default.\n"
     ]
    },
    {
     "name": "stdout",
     "output_type": "stream",
     "text": [
      "Downloading data from https://storage.googleapis.com/tensorflow/keras-applications/mobilenet_v2/mobilenet_v2_weights_tf_dim_ordering_tf_kernels_1.0_224_no_top.h5\n",
      "9406464/9406464 [==============================] - 0s 0us/step\n"
     ]
    }
   ],
   "source": [
    "# load the MobileNetV2 network, ensuring the head FC layer sets are\n",
    "# left off\n",
    "baseModel = MobileNetV2(weights=\"imagenet\", include_top=False,\n",
    "\tinput_tensor=Input(shape=(224, 224, 3)))"
   ]
  },
  {
   "cell_type": "code",
   "execution_count": 15,
   "metadata": {
    "id": "jjBlWyJppZkj"
   },
   "outputs": [],
   "source": [
    "# construct the head of the model that will be placed on top of the\n",
    "# the base model\n",
    "headModel = baseModel.output\n",
    "headModel = AveragePooling2D(pool_size=(7, 7))(headModel)\n",
    "headModel = Flatten(name=\"flatten\")(headModel)\n",
    "headModel = Dense(128, activation=\"relu\")(headModel)\n",
    "headModel = Dropout(0.5)(headModel)\n",
    "headModel = Dense(2, activation=\"softmax\")(headModel)"
   ]
  },
  {
   "cell_type": "code",
   "execution_count": 16,
   "metadata": {
    "id": "ejbUdnKrpZh_"
   },
   "outputs": [],
   "source": [
    "# place the head FC model on top of the base model (this will become\n",
    "# the actual model we will train)\n",
    "model = Model(inputs=baseModel.input, outputs=headModel)"
   ]
  },
  {
   "cell_type": "code",
   "execution_count": 17,
   "metadata": {
    "id": "LecCKs0epZfb"
   },
   "outputs": [],
   "source": [
    "# loop over all layers in the base model and freeze them so they will\n",
    "# *not* be updated during the first training process\n",
    "for layer in baseModel.layers:\n",
    "\tlayer.trainable = False"
   ]
  },
  {
   "cell_type": "code",
   "execution_count": 19,
   "metadata": {
    "colab": {
     "base_uri": "https://localhost:8080/"
    },
    "id": "wH13aZjHpZcw",
    "outputId": "fcade814-0cbd-4cd2-87ef-dd96cf228b0f"
   },
   "outputs": [
    {
     "name": "stdout",
     "output_type": "stream",
     "text": [
      "[INFO] compiling model...\n"
     ]
    }
   ],
   "source": [
    "# compile our model\n",
    "print(\"[INFO] compiling model...\") \n",
    "# INIT_LR = 1e-4\n",
    "# EPOCHS = 20\n",
    "# BS = 32\n",
    "# lr_schedule = tf.keras.optimizers.schedules.ExponentialDecay(\n",
    "#     initial_learning_rate=INIT_LR,\n",
    "#     decay_steps=10000,\n",
    "#     decay_rate=0.9)\n",
    "# opt = Adam(learning_rate=lr_schedule)\n",
    "opt = Adam(learning_rate=INIT_LR,)\n",
    "model.compile(loss=\"binary_crossentropy\", optimizer=opt,\n",
    "\tmetrics=[\"accuracy\"])"
   ]
  },
  {
   "cell_type": "code",
   "execution_count": 20,
   "metadata": {
    "colab": {
     "base_uri": "https://localhost:8080/"
    },
    "id": "ythWFfkPpZak",
    "outputId": "14541352-54ef-4d48-94bb-d0d27e038193"
   },
   "outputs": [
    {
     "name": "stdout",
     "output_type": "stream",
     "text": [
      "[INFO] training head...\n",
      "Epoch 1/20\n",
      "11/11 [==============================] - 20s 688ms/step - loss: 0.6393 - accuracy: 0.7043 - val_loss: 0.4368 - val_accuracy: 0.9263\n",
      "Epoch 2/20\n",
      "11/11 [==============================] - 5s 403ms/step - loss: 0.4387 - accuracy: 0.8783 - val_loss: 0.3022 - val_accuracy: 0.9684\n",
      "Epoch 3/20\n",
      "11/11 [==============================] - 4s 351ms/step - loss: 0.3254 - accuracy: 0.9233 - val_loss: 0.2204 - val_accuracy: 0.9684\n",
      "Epoch 4/20\n",
      "11/11 [==============================] - 5s 466ms/step - loss: 0.2251 - accuracy: 0.9623 - val_loss: 0.1703 - val_accuracy: 0.9684\n",
      "Epoch 5/20\n",
      "11/11 [==============================] - 4s 352ms/step - loss: 0.1870 - accuracy: 0.9768 - val_loss: 0.1418 - val_accuracy: 0.9789\n",
      "Epoch 6/20\n",
      "11/11 [==============================] - 4s 356ms/step - loss: 0.1428 - accuracy: 0.9768 - val_loss: 0.1264 - val_accuracy: 0.9789\n",
      "Epoch 7/20\n",
      "11/11 [==============================] - 5s 446ms/step - loss: 0.1173 - accuracy: 0.9855 - val_loss: 0.1046 - val_accuracy: 0.9895\n",
      "Epoch 8/20\n",
      "11/11 [==============================] - 4s 332ms/step - loss: 0.0980 - accuracy: 0.9884 - val_loss: 0.0931 - val_accuracy: 0.9895\n",
      "Epoch 9/20\n",
      "11/11 [==============================] - 4s 352ms/step - loss: 0.0892 - accuracy: 0.9855 - val_loss: 0.0868 - val_accuracy: 0.9895\n",
      "Epoch 10/20\n",
      "11/11 [==============================] - 5s 486ms/step - loss: 0.0750 - accuracy: 0.9971 - val_loss: 0.0854 - val_accuracy: 0.9895\n",
      "Epoch 11/20\n",
      "11/11 [==============================] - 4s 338ms/step - loss: 0.0699 - accuracy: 0.9884 - val_loss: 0.0788 - val_accuracy: 0.9895\n",
      "Epoch 12/20\n",
      "11/11 [==============================] - 5s 454ms/step - loss: 0.0633 - accuracy: 0.9855 - val_loss: 0.0746 - val_accuracy: 0.9895\n",
      "Epoch 13/20\n",
      "11/11 [==============================] - 4s 330ms/step - loss: 0.0594 - accuracy: 0.9913 - val_loss: 0.0661 - val_accuracy: 0.9895\n",
      "Epoch 14/20\n",
      "11/11 [==============================] - 4s 334ms/step - loss: 0.0452 - accuracy: 0.9942 - val_loss: 0.0646 - val_accuracy: 0.9895\n",
      "Epoch 15/20\n",
      "11/11 [==============================] - 4s 372ms/step - loss: 0.0406 - accuracy: 0.9971 - val_loss: 0.0642 - val_accuracy: 0.9895\n",
      "Epoch 16/20\n",
      "11/11 [==============================] - 4s 347ms/step - loss: 0.0391 - accuracy: 0.9971 - val_loss: 0.0606 - val_accuracy: 0.9895\n",
      "Epoch 17/20\n",
      "11/11 [==============================] - 5s 452ms/step - loss: 0.0294 - accuracy: 1.0000 - val_loss: 0.0548 - val_accuracy: 0.9895\n",
      "Epoch 18/20\n",
      "11/11 [==============================] - 4s 367ms/step - loss: 0.0387 - accuracy: 0.9972 - val_loss: 0.0535 - val_accuracy: 0.9895\n",
      "Epoch 19/20\n",
      "11/11 [==============================] - 4s 353ms/step - loss: 0.0315 - accuracy: 0.9943 - val_loss: 0.0544 - val_accuracy: 0.9895\n",
      "Epoch 20/20\n",
      "11/11 [==============================] - 5s 442ms/step - loss: 0.0285 - accuracy: 1.0000 - val_loss: 0.0564 - val_accuracy: 0.9895\n"
     ]
    }
   ],
   "source": [
    "# train the head of the network\n",
    "print(\"[INFO] training head...\")\n",
    "H = model.fit(\n",
    "\taug.flow(trainX, trainY, batch_size=BS),\n",
    "\tsteps_per_epoch=len(trainX) // BS,\n",
    "\tvalidation_data=(testX, testY),\n",
    "\tvalidation_steps=len(testX) // BS,\n",
    "\tepochs=EPOCHS)"
   ]
  },
  {
   "cell_type": "code",
   "execution_count": 21,
   "metadata": {
    "colab": {
     "base_uri": "https://localhost:8080/"
    },
    "id": "Jw8lqakupkkg",
    "outputId": "31fb6c07-6fc2-40f9-c4ea-3ebbb4f0832a"
   },
   "outputs": [
    {
     "name": "stdout",
     "output_type": "stream",
     "text": [
      "[INFO] evaluating network...\n",
      "3/3 [==============================] - 1s 335ms/step\n"
     ]
    }
   ],
   "source": [
    "# make predictions on the testing set\n",
    "print(\"[INFO] evaluating network...\")\n",
    "predIdxs = model.predict(testX, batch_size=BS)"
   ]
  },
  {
   "cell_type": "code",
   "execution_count": 22,
   "metadata": {
    "id": "iDi9MFezpkiO"
   },
   "outputs": [],
   "source": [
    "# for each image in the testing set we need to find the index of the\n",
    "# label with corresponding largest predicted probability\n",
    "predIdxs = np.argmax(predIdxs, axis=1)"
   ]
  },
  {
   "cell_type": "code",
   "execution_count": 23,
   "metadata": {
    "colab": {
     "base_uri": "https://localhost:8080/"
    },
    "id": "eUgoEeFspkgH",
    "outputId": "2c733477-4cc0-45ed-abba-7283e401bb8a"
   },
   "outputs": [
    {
     "name": "stdout",
     "output_type": "stream",
     "text": [
      "                precision    recall  f1-score   support\n",
      "\n",
      "   with_helmet       0.98      1.00      0.99        47\n",
      "without_helmet       1.00      0.98      0.99        48\n",
      "\n",
      "      accuracy                           0.99        95\n",
      "     macro avg       0.99      0.99      0.99        95\n",
      "  weighted avg       0.99      0.99      0.99        95\n",
      "\n"
     ]
    }
   ],
   "source": [
    "# show a nicely formatted classification report\n",
    "print(classification_report(testY.argmax(axis=1), predIdxs,\n",
    "\ttarget_names=lb.classes_))"
   ]
  },
  {
   "cell_type": "code",
   "execution_count": 24,
   "metadata": {
    "colab": {
     "base_uri": "https://localhost:8080/"
    },
    "id": "XxdJ_e_ypZYC",
    "outputId": "6bc745c8-648d-4639-dcfe-5dcb0584aced"
   },
   "outputs": [
    {
     "name": "stdout",
     "output_type": "stream",
     "text": [
      "[INFO] saving helmet detector model...\n"
     ]
    }
   ],
   "source": [
    "# serialize the model to disk\n",
    "print(\"[INFO] saving helmet detector model...\")\n",
    "model.save(\"helmet_detector.model\", save_format=\"h5\")"
   ]
  },
  {
   "cell_type": "code",
   "execution_count": 25,
   "metadata": {
    "colab": {
     "base_uri": "https://localhost:8080/",
     "height": 477
    },
    "id": "5g8mFwHSpvKX",
    "outputId": "9daea3c3-9ec0-40d7-946e-6c8d9eaf3bb7"
   },
   "outputs": [
    {
     "data": {
      "image/png": "[encoded data removed]",
      "text/plain": [
       "<Figure size 640x480 with 1 Axes>"
      ]
     },
     "metadata": {},
     "output_type": "display_data"
    }
   ],
   "source": [
    "# plot the training loss and accuracy\n",
    "N = EPOCHS\n",
    "plt.style.use(\"ggplot\")\n",
    "plt.figure()\n",
    "plt.plot(np.arange(0, N), H.history[\"loss\"], label=\"train_loss\")\n",
    "plt.plot(np.arange(0, N), H.history[\"val_loss\"], label=\"val_loss\")\n",
    "plt.plot(np.arange(0, N), H.history[\"accuracy\"], label=\"train_acc\")\n",
    "plt.plot(np.arange(0, N), H.history[\"val_accuracy\"], label=\"val_acc\")\n",
    "plt.title(\"Training Loss and Accuracy\")\n",
    "plt.xlabel(\"Epoch #\")\n",
    "plt.ylabel(\"Loss/Accuracy\")\n",
    "plt.legend(loc=\"lower left\")\n",
    "plt.savefig(\"plot.png\")"
   ]
  }
 ],
 "metadata": {
  "accelerator": "GPU",
  "colab": {
   "provenance": []
  },
  "gpuClass": "standard",
  "kernelspec": {
   "display_name": "Python 3 (ipykernel)",
   "language": "python",
   "name": "python3"
  },
  "language_info": {
   "codemirror_mode": {
    "name": "ipython",
    "version": 3
   },
   "file_extension": ".py",
   "mimetype": "text/x-python",
   "name": "python",
   "nbconvert_exporter": "python",
   "pygments_lexer": "ipython3",
   "version": "3.9.13"
  }
 },
 "nbformat": 4,
 "nbformat_minor": 4
}
